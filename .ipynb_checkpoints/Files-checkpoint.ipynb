{
 "cells": [
  {
   "cell_type": "markdown",
   "id": "b61fbe79-9ef6-40d1-b7ed-4021b9715c86",
   "metadata": {},
   "source": [
    "תרגיל 7"
   ]
  },
  {
   "cell_type": "code",
   "execution_count": 37,
   "id": "dfb6e9d1-9e61-46a6-a8e7-6d7bce7c1320",
   "metadata": {},
   "outputs": [],
   "source": [
    "i=0\n",
    "\n",
    "while i<26:\n",
    "    letter=chr(65 + i)\n",
    "    filename = f\"text26/{chr(65 + i)}.txt\"\n",
    "    with open(filename, \"a\") as f: \n",
    "        f.write(\"the page \" + letter)  \n",
    "    i+=1 \n",
    "    \n",
    "# import os\n",
    "# os.remove(\"File{i + 1}.txt\")   "
   ]
  },
  {
   "cell_type": "markdown",
   "id": "e5f33e88-7fec-4bfe-87a9-8b4947f39c8b",
   "metadata": {},
   "source": [
    "תרגיל 8 בשפ השם נעשה ונצליח!!!"
   ]
  },
  {
   "cell_type": "code",
   "execution_count": 64,
   "id": "b263da65-5265-45c0-a60f-c50455a34dee",
   "metadata": {},
   "outputs": [
    {
     "name": "stdout",
     "output_type": "stream",
     "text": [
      "{\n",
      "  \"key1\"= \"value1\",\n",
      "  \"key2\"= \"value2\"\n",
      "}\n"
     ]
    }
   ],
   "source": [
    "import json\n",
    "# help(json.dump)\n",
    "\n",
    "sampleJson = {\"key1\": \"value1\", \"key2\": \"value2\"}\n",
    "pretty_json = json.dumps(sampleJson,indent=2, separators=(\",\", \"= \"))\n",
    "# pretty_json = json.dumps(sampleJson, indent=2, separators=(\"!!!!!!!\", \"= \"))\n",
    "print(pretty_json)"
   ]
  },
  {
   "cell_type": "code",
   "execution_count": null,
   "id": "29188eb9-af73-4549-85bd-0f621936fdf3",
   "metadata": {},
   "outputs": [],
   "source": []
  }
 ],
 "metadata": {
  "kernelspec": {
   "display_name": "Python 3 (ipykernel)",
   "language": "python",
   "name": "python3"
  },
  "language_info": {
   "codemirror_mode": {
    "name": "ipython",
    "version": 3
   },
   "file_extension": ".py",
   "mimetype": "text/x-python",
   "name": "python",
   "nbconvert_exporter": "python",
   "pygments_lexer": "ipython3",
   "version": "3.12.7"
  }
 },
 "nbformat": 4,
 "nbformat_minor": 5
}
