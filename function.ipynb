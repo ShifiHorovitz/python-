{
 "cells": [
  {
   "cell_type": "markdown",
   "id": "1f1e3f60-6acd-451c-80ef-27144b636911",
   "metadata": {},
   "source": [
    "Lesson 3"
   ]
  },
  {
   "cell_type": "markdown",
   "id": "27d47a50-d59c-45a6-9788-b225f9fd1f7e",
   "metadata": {},
   "source": [
    ">רגיל 1\n"
   ]
  },
  {
   "cell_type": "code",
   "execution_count": 29,
   "id": "4d4412dd-78a7-4c99-86de-30e55e05a6ed",
   "metadata": {},
   "outputs": [],
   "source": [
    "def rang(x,y,num):\n",
    "    if(x<y):\n",
    "        if(num<y and num>x):\n",
    "            return True\n",
    "    else:\n",
    "        if(num<x and num>y):\n",
    "            return True\n",
    "    return False\n"
   ]
  },
  {
   "cell_type": "code",
   "execution_count": 37,
   "id": "67be11e1-b306-4481-b735-c1d21cad64ac",
   "metadata": {},
   "outputs": [
    {
     "name": "stdout",
     "output_type": "stream",
     "text": [
      "False\n",
      "True\n"
     ]
    }
   ],
   "source": [
    "print(rang(2,5,1))\n",
    "print(rang(2,5,4))"
   ]
  },
  {
   "cell_type": "markdown",
   "id": "89815904-d52b-4c12-ae14-a9c2288c98f1",
   "metadata": {},
   "source": [
    "תרגיל 2"
   ]
  },
  {
   "cell_type": "code",
   "execution_count": 70,
   "id": "ebeceb74-1e9f-422e-8283-edd8d7982c53",
   "metadata": {},
   "outputs": [],
   "source": [
    "def bigsmall(s):\n",
    "    i=0\n",
    "    counterBig=0\n",
    "    counterSmall=0\n",
    "    \n",
    "       \n",
    "    for char in s:\n",
    "       if char.isupper():\n",
    "        counterBig+=1\n",
    "       if char.islower():\n",
    "        counterSmall+=1\n",
    "    print(\"big:\"+str(counterBig))\n",
    "    print(\"small:\"+str(counterSmall))"
   ]
  },
  {
   "cell_type": "code",
   "execution_count": 72,
   "id": "8e3c6bba-63df-4d16-bbba-996e60b8c139",
   "metadata": {},
   "outputs": [
    {
     "name": "stdout",
     "output_type": "stream",
     "text": [
      "big:2\n",
      "small:8\n"
     ]
    }
   ],
   "source": [
    "bigsmall(\"The girl Big\")"
   ]
  },
  {
   "cell_type": "markdown",
   "id": "95829699-ce2b-4b50-a4fc-ee832919ca76",
   "metadata": {},
   "source": [
    "תרגיל 3"
   ]
  },
  {
   "cell_type": "code",
   "execution_count": 91,
   "id": "54c4e48d-0239-46a2-b219-48e53c366713",
   "metadata": {},
   "outputs": [],
   "source": [
    "def evennumber(ls):\n",
    "    ls2=[]\n",
    "    for i in ls:\n",
    "        if i%2==0:\n",
    "            ls2.append(i)\n",
    "    print (ls2)      \n",
    "            "
   ]
  },
  {
   "cell_type": "code",
   "execution_count": 93,
   "id": "ef1f9953-a83a-4649-b35d-389ffcf27cc0",
   "metadata": {},
   "outputs": [
    {
     "name": "stdout",
     "output_type": "stream",
     "text": [
      "[6, 8]\n"
     ]
    }
   ],
   "source": [
    "ls=[11,1,6,8]\n",
    "evennumber(ls)"
   ]
  },
  {
   "cell_type": "markdown",
   "id": "b0916c40-240d-4d8e-89e7-98ae8f512961",
   "metadata": {},
   "source": [
    "תרגיל 4"
   ]
  },
  {
   "cell_type": "code",
   "execution_count": 96,
   "id": "95ca6b6f-3a38-4152-9632-ab16f470de94",
   "metadata": {},
   "outputs": [],
   "source": [
    "def avg(*args):\n",
    "    counter=0\n",
    "    sum=0\n",
    "    for v in args:\n",
    "        counter+=1\n",
    "        sum += v\n",
    "    return sum/counter"
   ]
  },
  {
   "cell_type": "code",
   "execution_count": 100,
   "id": "fdcfc6f2-24ce-4e98-bda2-64866268626b",
   "metadata": {},
   "outputs": [
    {
     "data": {
      "text/plain": [
       "2.0"
      ]
     },
     "execution_count": 100,
     "metadata": {},
     "output_type": "execute_result"
    }
   ],
   "source": [
    "avg(1,2,3)"
   ]
  },
  {
   "cell_type": "markdown",
   "id": "62623035-29bf-4014-a640-41cef4749303",
   "metadata": {},
   "source": [
    "תרגיל 5"
   ]
  },
  {
   "cell_type": "code",
   "execution_count": 107,
   "id": "437730bb-5651-4e60-9b1d-1a1039ad565b",
   "metadata": {},
   "outputs": [],
   "source": [
    "def polindrom(s):\n",
    "    start=0\n",
    "    end=len(s)-1\n",
    "    while start <= end:\n",
    "        if s[start]!=s[end]:\n",
    "            return False\n",
    "        start+=1\n",
    "        end-=1\n",
    "    return True\n",
    "    \n",
    "    "
   ]
  },
  {
   "cell_type": "code",
   "execution_count": 127,
   "id": "6eabb768-6d34-4cc3-b542-30880a9b0398",
   "metadata": {},
   "outputs": [
    {
     "name": "stdout",
     "output_type": "stream",
     "text": [
      "False\n"
     ]
    }
   ],
   "source": [
    "print(polindrom(\"7natan\"))\n"
   ]
  },
  {
   "cell_type": "code",
   "execution_count": null,
   "id": "f2bb6f1b-691b-40c1-ad36-cec47b8d969d",
   "metadata": {},
   "outputs": [],
   "source": []
  }
 ],
 "metadata": {
  "kernelspec": {
   "display_name": "Python 3 (ipykernel)",
   "language": "python",
   "name": "python3"
  },
  "language_info": {
   "codemirror_mode": {
    "name": "ipython",
    "version": 3
   },
   "file_extension": ".py",
   "mimetype": "text/x-python",
   "name": "python",
   "nbconvert_exporter": "python",
   "pygments_lexer": "ipython3",
   "version": "3.12.7"
  }
 },
 "nbformat": 4,
 "nbformat_minor": 5
}
